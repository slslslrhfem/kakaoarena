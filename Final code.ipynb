{
  "nbformat": 4,
  "nbformat_minor": 0,
  "metadata": {
    "colab": {
      "name": "kakao arena.ipynb",
      "provenance": [],
      "collapsed_sections": [],
      "machine_shape": "hm"
    },
    "kernelspec": {
      "name": "python3",
      "display_name": "Python 3"
    }
  },
  "cells": [
    {
      "cell_type": "code",
      "metadata": {
        "id": "S03Zz52dsVK1",
        "colab_type": "code",
        "colab": {}
      },
      "source": [
        "import numpy as np\n",
        "import librosa\n",
        "import matplotlib.pyplot as plt\n",
        "import librosa.display"
      ],
      "execution_count": 1,
      "outputs": []
    },
    {
      "cell_type": "code",
      "metadata": {
        "id": "-WMQj_D42IxK",
        "colab_type": "code",
        "colab": {}
      },
      "source": [
        "import IPython.display"
      ],
      "execution_count": 2,
      "outputs": []
    },
    {
      "cell_type": "code",
      "metadata": {
        "id": "HuJK4Ky1u4TQ",
        "colab_type": "code",
        "colab": {
          "base_uri": "https://localhost:8080/",
          "height": 1000
        },
        "outputId": "e0bd13ab-063a-4f0a-d399-69bead595c9b"
      },
      "source": [
        "#위까지가 멜스펙토그램 좀 다뤄본것. 큰의미는 없을듯\n",
        "import pandas as pd\n",
        "genre_gn_all=pd.read_json(\"/content/drive/My Drive/Kakao Arena/genre_gn_all.json\",typ='series')\n",
        "genre_gn_all = pd.DataFrame(genre_gn_all, columns = ['gnr_name']).reset_index().rename(columns = {'index' : 'gnr_code'})\n",
        "print(genre_gn_all)#전체장르\n",
        "gnr_code = genre_gn_all[genre_gn_all['gnr_code'].str[-2:] == '00']\n",
        "print(gnr_code)#대분류장르\n",
        "dtl_gnr_code = genre_gn_all[genre_gn_all['gnr_code'].str[-2:] != '00']\n",
        "dtl_gnr_code.rename(columns = {'gnr_code' : 'dtl_gnr_code', 'gnr_name' : 'dtl_gnr_name'}, inplace = True)\n",
        "print(dtl_gnr_code)#세부장르"
      ],
      "execution_count": 3,
      "outputs": [
        {
          "output_type": "stream",
          "text": [
            "    gnr_code gnr_name\n",
            "0     GN0100      발라드\n",
            "1     GN0101   세부장르전체\n",
            "2     GN0102      '80\n",
            "3     GN0103      '90\n",
            "4     GN0104      '00\n",
            "..       ...      ...\n",
            "249   GN2900      뮤지컬\n",
            "250   GN2901   세부장르전체\n",
            "251   GN2902    국내뮤지컬\n",
            "252   GN2903    국외뮤지컬\n",
            "253   GN3000    크리스마스\n",
            "\n",
            "[254 rows x 2 columns]\n",
            "    gnr_code    gnr_name\n",
            "0     GN0100         발라드\n",
            "6     GN0200          댄스\n",
            "12    GN0300        랩/힙합\n",
            "18    GN0400    R&B/Soul\n",
            "22    GN0500        인디음악\n",
            "32    GN0600        록/메탈\n",
            "39    GN0700        성인가요\n",
            "50    GN0800      포크/블루스\n",
            "56    GN0900         POP\n",
            "65    GN1000        록/메탈\n",
            "80    GN1100      일렉트로니카\n",
            "90    GN1200        랩/힙합\n",
            "100   GN1300    R&B/Soul\n",
            "109   GN1400  포크/블루스/컨트리\n",
            "117   GN1500         OST\n",
            "128   GN1600         클래식\n",
            "144   GN1700          재즈\n",
            "155   GN1800        뉴에이지\n",
            "163   GN1900       J-POP\n",
            "176   GN2000        월드뮤직\n",
            "187   GN2100         CCM\n",
            "198   GN2200      어린이/태교\n",
            "215   GN2300        종교음악\n",
            "218   GN2400          국악\n",
            "225   GN2500         아이돌\n",
            "232   GN2600      일렉트로니카\n",
            "237   GN2700         EDM\n",
            "242   GN2800       뮤직테라피\n",
            "249   GN2900         뮤지컬\n",
            "253   GN3000       크리스마스\n",
            "    dtl_gnr_code dtl_gnr_name\n",
            "1         GN0101       세부장르전체\n",
            "2         GN0102          '80\n",
            "3         GN0103          '90\n",
            "4         GN0104          '00\n",
            "5         GN0105         '10-\n",
            "..           ...          ...\n",
            "247       GN2805         숙면유도\n",
            "248       GN2806         반려동물\n",
            "250       GN2901       세부장르전체\n",
            "251       GN2902        국내뮤지컬\n",
            "252       GN2903        국외뮤지컬\n",
            "\n",
            "[224 rows x 2 columns]\n"
          ],
          "name": "stdout"
        },
        {
          "output_type": "stream",
          "text": [
            "/usr/local/lib/python3.6/dist-packages/pandas/core/frame.py:4133: SettingWithCopyWarning: \n",
            "A value is trying to be set on a copy of a slice from a DataFrame\n",
            "\n",
            "See the caveats in the documentation: https://pandas.pydata.org/pandas-docs/stable/user_guide/indexing.html#returning-a-view-versus-a-copy\n",
            "  errors=errors,\n"
          ],
          "name": "stderr"
        }
      ]
    },
    {
      "cell_type": "code",
      "metadata": {
        "id": "ifR8H5qCwFvf",
        "colab_type": "code",
        "colab": {
          "base_uri": "https://localhost:8080/",
          "height": 286
        },
        "outputId": "d5a6c809-9509-46b0-8569-f4f00d4dcd19"
      },
      "source": [
        "gnr_code = gnr_code.assign(join_code = gnr_code['gnr_code'].str[0:4])\n",
        "dtl_gnr_code = dtl_gnr_code.assign(join_code = dtl_gnr_code['dtl_gnr_code'].str[0:4])\n",
        "\n",
        "# Merge\n",
        "gnr_code_tree = pd.merge(gnr_code, dtl_gnr_code, how = 'left', on = 'join_code')\n",
        "\n",
        "gnr_code_tree[['gnr_code', 'gnr_name', 'dtl_gnr_code', 'dtl_gnr_name']]\n",
        "gnr_code_tree[gnr_code_tree['gnr_code'] == 'GN0900']\n",
        "#장르 트리."
      ],
      "execution_count": 4,
      "outputs": [
        {
          "output_type": "execute_result",
          "data": {
            "text/html": [
              "<div>\n",
              "<style scoped>\n",
              "    .dataframe tbody tr th:only-of-type {\n",
              "        vertical-align: middle;\n",
              "    }\n",
              "\n",
              "    .dataframe tbody tr th {\n",
              "        vertical-align: top;\n",
              "    }\n",
              "\n",
              "    .dataframe thead th {\n",
              "        text-align: right;\n",
              "    }\n",
              "</style>\n",
              "<table border=\"1\" class=\"dataframe\">\n",
              "  <thead>\n",
              "    <tr style=\"text-align: right;\">\n",
              "      <th></th>\n",
              "      <th>gnr_code</th>\n",
              "      <th>gnr_name</th>\n",
              "      <th>join_code</th>\n",
              "      <th>dtl_gnr_code</th>\n",
              "      <th>dtl_gnr_name</th>\n",
              "    </tr>\n",
              "  </thead>\n",
              "  <tbody>\n",
              "    <tr>\n",
              "      <th>48</th>\n",
              "      <td>GN0900</td>\n",
              "      <td>POP</td>\n",
              "      <td>GN09</td>\n",
              "      <td>GN0901</td>\n",
              "      <td>세부장르전체</td>\n",
              "    </tr>\n",
              "    <tr>\n",
              "      <th>49</th>\n",
              "      <td>GN0900</td>\n",
              "      <td>POP</td>\n",
              "      <td>GN09</td>\n",
              "      <td>GN0902</td>\n",
              "      <td>얼터너티브팝</td>\n",
              "    </tr>\n",
              "    <tr>\n",
              "      <th>50</th>\n",
              "      <td>GN0900</td>\n",
              "      <td>POP</td>\n",
              "      <td>GN09</td>\n",
              "      <td>GN0903</td>\n",
              "      <td>올디스</td>\n",
              "    </tr>\n",
              "    <tr>\n",
              "      <th>51</th>\n",
              "      <td>GN0900</td>\n",
              "      <td>POP</td>\n",
              "      <td>GN09</td>\n",
              "      <td>GN0904</td>\n",
              "      <td>월드팝</td>\n",
              "    </tr>\n",
              "    <tr>\n",
              "      <th>52</th>\n",
              "      <td>GN0900</td>\n",
              "      <td>POP</td>\n",
              "      <td>GN09</td>\n",
              "      <td>GN0905</td>\n",
              "      <td>'60-'70</td>\n",
              "    </tr>\n",
              "    <tr>\n",
              "      <th>53</th>\n",
              "      <td>GN0900</td>\n",
              "      <td>POP</td>\n",
              "      <td>GN09</td>\n",
              "      <td>GN0906</td>\n",
              "      <td>'80-'90</td>\n",
              "    </tr>\n",
              "    <tr>\n",
              "      <th>54</th>\n",
              "      <td>GN0900</td>\n",
              "      <td>POP</td>\n",
              "      <td>GN09</td>\n",
              "      <td>GN0907</td>\n",
              "      <td>'00</td>\n",
              "    </tr>\n",
              "    <tr>\n",
              "      <th>55</th>\n",
              "      <td>GN0900</td>\n",
              "      <td>POP</td>\n",
              "      <td>GN09</td>\n",
              "      <td>GN0908</td>\n",
              "      <td>'10-</td>\n",
              "    </tr>\n",
              "  </tbody>\n",
              "</table>\n",
              "</div>"
            ],
            "text/plain": [
              "   gnr_code gnr_name join_code dtl_gnr_code dtl_gnr_name\n",
              "48   GN0900      POP      GN09       GN0901       세부장르전체\n",
              "49   GN0900      POP      GN09       GN0902       얼터너티브팝\n",
              "50   GN0900      POP      GN09       GN0903          올디스\n",
              "51   GN0900      POP      GN09       GN0904          월드팝\n",
              "52   GN0900      POP      GN09       GN0905      '60-'70\n",
              "53   GN0900      POP      GN09       GN0906      '80-'90\n",
              "54   GN0900      POP      GN09       GN0907          '00\n",
              "55   GN0900      POP      GN09       GN0908         '10-"
            ]
          },
          "metadata": {
            "tags": []
          },
          "execution_count": 4
        }
      ]
    },
    {
      "cell_type": "code",
      "metadata": {
        "id": "F8FMilJVwm8l",
        "colab_type": "code",
        "colab": {
          "base_uri": "https://localhost:8080/",
          "height": 826
        },
        "outputId": "2933670f-552f-4f79-e8f4-1b318f76702d"
      },
      "source": [
        "import os\n",
        "song_meta = pd.read_json('/content/drive/My Drive/Kakao Arena/song_meta.json', typ = 'frame')\n",
        "song_meta"
      ],
      "execution_count": 5,
      "outputs": [
        {
          "output_type": "execute_result",
          "data": {
            "text/html": [
              "<div>\n",
              "<style scoped>\n",
              "    .dataframe tbody tr th:only-of-type {\n",
              "        vertical-align: middle;\n",
              "    }\n",
              "\n",
              "    .dataframe tbody tr th {\n",
              "        vertical-align: top;\n",
              "    }\n",
              "\n",
              "    .dataframe thead th {\n",
              "        text-align: right;\n",
              "    }\n",
              "</style>\n",
              "<table border=\"1\" class=\"dataframe\">\n",
              "  <thead>\n",
              "    <tr style=\"text-align: right;\">\n",
              "      <th></th>\n",
              "      <th>song_gn_dtl_gnr_basket</th>\n",
              "      <th>issue_date</th>\n",
              "      <th>album_name</th>\n",
              "      <th>album_id</th>\n",
              "      <th>artist_id_basket</th>\n",
              "      <th>song_name</th>\n",
              "      <th>song_gn_gnr_basket</th>\n",
              "      <th>artist_name_basket</th>\n",
              "      <th>id</th>\n",
              "    </tr>\n",
              "  </thead>\n",
              "  <tbody>\n",
              "    <tr>\n",
              "      <th>0</th>\n",
              "      <td>[GN0901]</td>\n",
              "      <td>20140512</td>\n",
              "      <td>불후의 명곡 - 7080 추억의 얄개시대 팝송베스트</td>\n",
              "      <td>2255639</td>\n",
              "      <td>[2727]</td>\n",
              "      <td>Feelings</td>\n",
              "      <td>[GN0900]</td>\n",
              "      <td>[Various Artists]</td>\n",
              "      <td>0</td>\n",
              "    </tr>\n",
              "    <tr>\n",
              "      <th>1</th>\n",
              "      <td>[GN1601, GN1606]</td>\n",
              "      <td>20080421</td>\n",
              "      <td>Bach : Partitas Nos. 2, 3 &amp; 4</td>\n",
              "      <td>376431</td>\n",
              "      <td>[29966]</td>\n",
              "      <td>Bach : Partita No. 4 In D Major, BWV 828 - II....</td>\n",
              "      <td>[GN1600]</td>\n",
              "      <td>[Murray Perahia]</td>\n",
              "      <td>1</td>\n",
              "    </tr>\n",
              "    <tr>\n",
              "      <th>2</th>\n",
              "      <td>[GN0901]</td>\n",
              "      <td>20180518</td>\n",
              "      <td>Hit</td>\n",
              "      <td>4698747</td>\n",
              "      <td>[3361]</td>\n",
              "      <td>Solsbury Hill (Remastered 2002)</td>\n",
              "      <td>[GN0900]</td>\n",
              "      <td>[Peter Gabriel]</td>\n",
              "      <td>2</td>\n",
              "    </tr>\n",
              "    <tr>\n",
              "      <th>3</th>\n",
              "      <td>[GN1102, GN1101]</td>\n",
              "      <td>20151016</td>\n",
              "      <td>Feeling Right (Everything Is Nice) (Feat. Popc...</td>\n",
              "      <td>2644882</td>\n",
              "      <td>[838543]</td>\n",
              "      <td>Feeling Right (Everything Is Nice) (Feat. Popc...</td>\n",
              "      <td>[GN1100]</td>\n",
              "      <td>[Matoma]</td>\n",
              "      <td>3</td>\n",
              "    </tr>\n",
              "    <tr>\n",
              "      <th>4</th>\n",
              "      <td>[GN1802, GN1801]</td>\n",
              "      <td>20110824</td>\n",
              "      <td>그남자 그여자</td>\n",
              "      <td>2008470</td>\n",
              "      <td>[560160]</td>\n",
              "      <td>그남자 그여자</td>\n",
              "      <td>[GN1800]</td>\n",
              "      <td>[Jude Law]</td>\n",
              "      <td>4</td>\n",
              "    </tr>\n",
              "    <tr>\n",
              "      <th>...</th>\n",
              "      <td>...</td>\n",
              "      <td>...</td>\n",
              "      <td>...</td>\n",
              "      <td>...</td>\n",
              "      <td>...</td>\n",
              "      <td>...</td>\n",
              "      <td>...</td>\n",
              "      <td>...</td>\n",
              "      <td>...</td>\n",
              "    </tr>\n",
              "    <tr>\n",
              "      <th>707984</th>\n",
              "      <td>[GN2001]</td>\n",
              "      <td>19991219</td>\n",
              "      <td>The Best Best Of The Black President</td>\n",
              "      <td>65254</td>\n",
              "      <td>[166499]</td>\n",
              "      <td>Coffin For Head Of State</td>\n",
              "      <td>[GN2000]</td>\n",
              "      <td>[Fela Kuti]</td>\n",
              "      <td>707984</td>\n",
              "    </tr>\n",
              "    <tr>\n",
              "      <th>707985</th>\n",
              "      <td>[GN0901]</td>\n",
              "      <td>19860000</td>\n",
              "      <td>True Colors</td>\n",
              "      <td>44141</td>\n",
              "      <td>[11837]</td>\n",
              "      <td>Change Of Heart</td>\n",
              "      <td>[GN0900]</td>\n",
              "      <td>[Cyndi Lauper]</td>\n",
              "      <td>707985</td>\n",
              "    </tr>\n",
              "    <tr>\n",
              "      <th>707986</th>\n",
              "      <td>[GN0105, GN0101]</td>\n",
              "      <td>20160120</td>\n",
              "      <td>행보 2015 윤종신 / 작사가 윤종신 Live Part.1</td>\n",
              "      <td>2662866</td>\n",
              "      <td>[437]</td>\n",
              "      <td>스치듯 안녕</td>\n",
              "      <td>[GN0100]</td>\n",
              "      <td>[윤종신]</td>\n",
              "      <td>707986</td>\n",
              "    </tr>\n",
              "    <tr>\n",
              "      <th>707987</th>\n",
              "      <td>[GN1807, GN1801]</td>\n",
              "      <td>20131217</td>\n",
              "      <td>명상의 시간을 위한 뉴에이지 음악</td>\n",
              "      <td>2221722</td>\n",
              "      <td>[729868]</td>\n",
              "      <td>숲의 빛</td>\n",
              "      <td>[GN1800]</td>\n",
              "      <td>[Nature Piano]</td>\n",
              "      <td>707987</td>\n",
              "    </tr>\n",
              "    <tr>\n",
              "      <th>707988</th>\n",
              "      <td>[GN0601, GN0604]</td>\n",
              "      <td>19980000</td>\n",
              "      <td>김경호 Live</td>\n",
              "      <td>34663</td>\n",
              "      <td>[895]</td>\n",
              "      <td>Queen 명곡 멜로디</td>\n",
              "      <td>[GN0600]</td>\n",
              "      <td>[김경호]</td>\n",
              "      <td>707988</td>\n",
              "    </tr>\n",
              "  </tbody>\n",
              "</table>\n",
              "<p>707989 rows × 9 columns</p>\n",
              "</div>"
            ],
            "text/plain": [
              "       song_gn_dtl_gnr_basket  issue_date  ... artist_name_basket      id\n",
              "0                    [GN0901]    20140512  ...  [Various Artists]       0\n",
              "1            [GN1601, GN1606]    20080421  ...   [Murray Perahia]       1\n",
              "2                    [GN0901]    20180518  ...    [Peter Gabriel]       2\n",
              "3            [GN1102, GN1101]    20151016  ...           [Matoma]       3\n",
              "4            [GN1802, GN1801]    20110824  ...         [Jude Law]       4\n",
              "...                       ...         ...  ...                ...     ...\n",
              "707984               [GN2001]    19991219  ...        [Fela Kuti]  707984\n",
              "707985               [GN0901]    19860000  ...     [Cyndi Lauper]  707985\n",
              "707986       [GN0105, GN0101]    20160120  ...              [윤종신]  707986\n",
              "707987       [GN1807, GN1801]    20131217  ...     [Nature Piano]  707987\n",
              "707988       [GN0601, GN0604]    19980000  ...              [김경호]  707988\n",
              "\n",
              "[707989 rows x 9 columns]"
            ]
          },
          "metadata": {
            "tags": []
          },
          "execution_count": 5
        }
      ]
    },
    {
      "cell_type": "code",
      "metadata": {
        "id": "RYOtnB4WJK99",
        "colab_type": "code",
        "colab": {
          "base_uri": "https://localhost:8080/",
          "height": 296
        },
        "outputId": "263d7677-9c0b-436f-acba-2642a2494e38"
      },
      "source": [
        "song_meta.info()"
      ],
      "execution_count": 6,
      "outputs": [
        {
          "output_type": "stream",
          "text": [
            "<class 'pandas.core.frame.DataFrame'>\n",
            "RangeIndex: 707989 entries, 0 to 707988\n",
            "Data columns (total 9 columns):\n",
            " #   Column                  Non-Null Count   Dtype \n",
            "---  ------                  --------------   ----- \n",
            " 0   song_gn_dtl_gnr_basket  707989 non-null  object\n",
            " 1   issue_date              707989 non-null  int64 \n",
            " 2   album_name              707985 non-null  object\n",
            " 3   album_id                707989 non-null  int64 \n",
            " 4   artist_id_basket        707989 non-null  object\n",
            " 5   song_name               707989 non-null  object\n",
            " 6   song_gn_gnr_basket      707989 non-null  object\n",
            " 7   artist_name_basket      707989 non-null  object\n",
            " 8   id                      707989 non-null  int64 \n",
            "dtypes: int64(3), object(6)\n",
            "memory usage: 48.6+ MB\n"
          ],
          "name": "stdout"
        }
      ]
    },
    {
      "cell_type": "code",
      "metadata": {
        "id": "NmVr-klhD8Q1",
        "colab_type": "code",
        "colab": {
          "base_uri": "https://localhost:8080/",
          "height": 1000
        },
        "outputId": "2a272850-873c-4e9c-e7ce-8de226b97bb4"
      },
      "source": [
        "a=song_meta.loc[song_meta['id']==325514]\n",
        "print(a) #곡의 아이디 기반한 정보\n",
        "a.info()\n",
        "print(a.iloc[0]['album_id']) #그 후 이런식으로 꺼내면 됨. id가 325514인 곡의 앨범 아이디.\n",
        "print(song_meta.loc[song_meta['album_id']==40432])#위 아이디로 곡들 불러옴\n",
        "print(list(song_meta.loc[song_meta['album_id']==40432].iloc[:]['id']))#이렇게 325514 곡과 같은 앨범에 수록된 곡들을 불러올 수 있다.\n",
        "\n",
        "artists=a.iloc[0]['artist_id_basket']\n",
        "for artist in artists:\n",
        "  b=song_meta.loc[song_meta['artist_id_basket'].apply(lambda x: artist in x)]\n",
        "  print(b) #artist가 해당되는 곡들 불러옴\n",
        "  print(list(b.iloc[:]['id']))#이렇게 325514 곡과 같은 아티스트가 만든 곡들을 불러올 수 있다.\n",
        "\n",
        "\n",
        "print(song_meta.loc[song_meta['album_name'].str.match(\"그남자 그여자\").fillna(True)])\n",
        "\n",
        "\n"
      ],
      "execution_count": 7,
      "outputs": [
        {
          "output_type": "stream",
          "text": [
            "       song_gn_dtl_gnr_basket  issue_date  ... artist_name_basket      id\n",
            "325514       [GN0204, GN0201]    20031001  ...        [다나 (DANA)]  325514\n",
            "\n",
            "[1 rows x 9 columns]\n",
            "<class 'pandas.core.frame.DataFrame'>\n",
            "Int64Index: 1 entries, 325514 to 325514\n",
            "Data columns (total 9 columns):\n",
            " #   Column                  Non-Null Count  Dtype \n",
            "---  ------                  --------------  ----- \n",
            " 0   song_gn_dtl_gnr_basket  1 non-null      object\n",
            " 1   issue_date              1 non-null      int64 \n",
            " 2   album_name              1 non-null      object\n",
            " 3   album_id                1 non-null      int64 \n",
            " 4   artist_id_basket        1 non-null      object\n",
            " 5   song_name               1 non-null      object\n",
            " 6   song_gn_gnr_basket      1 non-null      object\n",
            " 7   artist_name_basket      1 non-null      object\n",
            " 8   id                      1 non-null      int64 \n",
            "dtypes: int64(3), object(6)\n",
            "memory usage: 80.0+ bytes\n",
            "40432\n",
            "       song_gn_dtl_gnr_basket  issue_date  ... artist_name_basket      id\n",
            "86671        [GN0204, GN0201]    20031001  ...        [다나 (DANA)]   86671\n",
            "110515       [GN0104, GN0101]    20031001  ...        [다나 (DANA)]  110515\n",
            "325514       [GN0204, GN0201]    20031001  ...        [다나 (DANA)]  325514\n",
            "364917       [GN0204, GN0201]    20031001  ...        [다나 (DANA)]  364917\n",
            "475024       [GN0204, GN0201]    20031001  ...        [다나 (DANA)]  475024\n",
            "482744       [GN0104, GN0101]    20031001  ...        [다나 (DANA)]  482744\n",
            "532907       [GN0104, GN0101]    20031001  ...        [다나 (DANA)]  532907\n",
            "\n",
            "[7 rows x 9 columns]\n",
            "[86671, 110515, 325514, 364917, 475024, 482744, 532907]\n",
            "                                  song_gn_dtl_gnr_basket  ...      id\n",
            "744                                             [GN0201]  ...     744\n",
            "24415                                   [GN0204, GN0201]  ...   24415\n",
            "86671                                   [GN0204, GN0201]  ...   86671\n",
            "97615                                           [GN0201]  ...   97615\n",
            "104464                  [GN0105, GN1501, GN0101, GN1504]  ...  104464\n",
            "110515                                  [GN0104, GN0101]  ...  110515\n",
            "128631  [GN2503, GN1501, GN2501, GN2506, GN0201, GN1504]  ...  128631\n",
            "149184                          [GN1501, GN0201, GN1504]  ...  149184\n",
            "199244                                  [GN0204, GN0201]  ...  199244\n",
            "207790                                  [GN0204, GN0201]  ...  207790\n",
            "237656                                  [GN0204, GN0201]  ...  237656\n",
            "308814                                  [GN0105, GN0101]  ...  308814\n",
            "325514                                  [GN0204, GN0201]  ...  325514\n",
            "334225                                  [GN0105, GN0101]  ...  334225\n",
            "337308                                  [GN0104, GN0101]  ...  337308\n",
            "364917                                  [GN0204, GN0201]  ...  364917\n",
            "370047                                          [GN0201]  ...  370047\n",
            "421161                                  [GN0204, GN0201]  ...  421161\n",
            "422524                                  [GN0204, GN0201]  ...  422524\n",
            "429710                                  [GN0205, GN0201]  ...  429710\n",
            "435526                                  [GN0104, GN0101]  ...  435526\n",
            "475024                                  [GN0204, GN0201]  ...  475024\n",
            "482744                                  [GN0104, GN0101]  ...  482744\n",
            "532907                                  [GN0104, GN0101]  ...  532907\n",
            "536747                                  [GN0105, GN0101]  ...  536747\n",
            "556244                                          [GN0201]  ...  556244\n",
            "629562                                          [GN0101]  ...  629562\n",
            "661299                                  [GN0105, GN0101]  ...  661299\n",
            "667340                                  [GN0204, GN0201]  ...  667340\n",
            "677929                                          [GN0101]  ...  677929\n",
            "\n",
            "[30 rows x 9 columns]\n",
            "[744, 24415, 86671, 97615, 104464, 110515, 128631, 149184, 199244, 207790, 237656, 308814, 325514, 334225, 337308, 364917, 370047, 421161, 422524, 429710, 435526, 475024, 482744, 532907, 536747, 556244, 629562, 661299, 667340, 677929]\n",
            "                          song_gn_dtl_gnr_basket  ...      id\n",
            "4                               [GN1802, GN1801]  ...       4\n",
            "143209  [GN0501, GN0601, GN0503, GN0606, GN0509]  ...  143209\n",
            "291631                          [GN0105, GN0101]  ...  291631\n",
            "404658                          [GN1802, GN1801]  ...  404658\n",
            "431110  [GN0509, GN0601, GN0503, GN0606, GN0501]  ...  431110\n",
            "458715                          [GN1802, GN1801]  ...  458715\n",
            "552088                          [GN0105, GN0601]  ...  552088\n",
            "\n",
            "[7 rows x 9 columns]\n"
          ],
          "name": "stdout"
        }
      ]
    },
    {
      "cell_type": "code",
      "metadata": {
        "id": "qkKd3jFZaRjm",
        "colab_type": "code",
        "colab": {
          "base_uri": "https://localhost:8080/",
          "height": 226
        },
        "outputId": "c73404c2-fc05-4161-bd85-82c95c53c49c"
      },
      "source": [
        "song_meta['artist_id_basket'].str.contains('2')"
      ],
      "execution_count": 8,
      "outputs": [
        {
          "output_type": "execute_result",
          "data": {
            "text/plain": [
              "0        NaN\n",
              "1        NaN\n",
              "2        NaN\n",
              "3        NaN\n",
              "4        NaN\n",
              "          ..\n",
              "707984   NaN\n",
              "707985   NaN\n",
              "707986   NaN\n",
              "707987   NaN\n",
              "707988   NaN\n",
              "Name: artist_id_basket, Length: 707989, dtype: float64"
            ]
          },
          "metadata": {
            "tags": []
          },
          "execution_count": 8
        }
      ]
    },
    {
      "cell_type": "code",
      "metadata": {
        "id": "Eel0Xdda4V8h",
        "colab_type": "code",
        "colab": {
          "base_uri": "https://localhost:8080/",
          "height": 261
        },
        "outputId": "3fcc3e94-d43f-48d4-8464-2145dc8981c3"
      },
      "source": [
        "train = pd.read_json('/content/drive/My Drive/Kakao Arena/train.json', typ = 'frame')\n",
        "print(train)"
      ],
      "execution_count": 9,
      "outputs": [
        {
          "output_type": "stream",
          "text": [
            "                                                     tags  ...                updt_date\n",
            "0                                                     [락]  ...  2013-12-19 18:36:19.000\n",
            "1                                                [추억, 회상]  ...  2014-12-02 16:19:42.000\n",
            "2                                               [까페, 잔잔한]  ...  2017-08-28 07:09:34.000\n",
            "3       [연말, 눈오는날, 캐럴, 분위기, 따듯한, 크리스마스캐럴, 겨울노래, 크리스마스,...  ...  2019-12-05 15:15:18.000\n",
            "4                                                    [댄스]  ...  2011-10-25 13:54:56.000\n",
            "...                                                   ...  ...                      ...\n",
            "115066               [록메탈, 밴드사운드, 록, 락메탈, 메탈, 락, extreme]  ...  2020-04-17 04:31:11.000\n",
            "115067                                               [일렉]  ...  2015-12-24 17:23:19.000\n",
            "115068             [담시, 가족, 눈물, 그리움, 주인공, 나의_이야기, 사랑, 친구]  ...  2019-08-16 20:59:22.000\n",
            "115069                      [잔잔한, 버스, 퇴근버스, Pop, 풍경, 퇴근길]  ...  2019-10-25 23:40:42.000\n",
            "115070                             [노래추천, 팝송추천, 팝송, 팝송모음]  ...  2020-04-18 20:35:06.000\n",
            "\n",
            "[115071 rows x 6 columns]\n"
          ],
          "name": "stdout"
        }
      ]
    },
    {
      "cell_type": "code",
      "metadata": {
        "id": "5WXEIrYNzbuN",
        "colab_type": "code",
        "colab": {
          "base_uri": "https://localhost:8080/",
          "height": 244
        },
        "outputId": "e53fc274-e744-4b79-b3bd-f3201280342e"
      },
      "source": [
        "train.info()"
      ],
      "execution_count": 10,
      "outputs": [
        {
          "output_type": "stream",
          "text": [
            "<class 'pandas.core.frame.DataFrame'>\n",
            "RangeIndex: 115071 entries, 0 to 115070\n",
            "Data columns (total 6 columns):\n",
            " #   Column        Non-Null Count   Dtype \n",
            "---  ------        --------------   ----- \n",
            " 0   tags          115071 non-null  object\n",
            " 1   id            115071 non-null  int64 \n",
            " 2   plylst_title  115071 non-null  object\n",
            " 3   songs         115071 non-null  object\n",
            " 4   like_cnt      115071 non-null  int64 \n",
            " 5   updt_date     115071 non-null  object\n",
            "dtypes: int64(2), object(4)\n",
            "memory usage: 5.3+ MB\n"
          ],
          "name": "stdout"
        }
      ]
    },
    {
      "cell_type": "code",
      "metadata": {
        "id": "4x_uosR3CKz6",
        "colab_type": "code",
        "colab": {}
      },
      "source": [
        "plylst_song_map = train[['id', 'songs']]\n",
        "\n",
        "# unnest songs\n",
        "plylst_song_map_unnest = np.dstack(\n",
        "    (\n",
        "        np.repeat(plylst_song_map.id.values, list(map(len, plylst_song_map.songs))), \n",
        "        np.concatenate(plylst_song_map.songs.values)\n",
        "    )\n",
        ")\n",
        "\n",
        "# unnested 데이터프레임 생성 : plylst_song_map\n",
        "plylst_song_map = pd.DataFrame(data = plylst_song_map_unnest[0], columns = plylst_song_map.columns)\n",
        "plylst_song_map['id'] = plylst_song_map['id'].astype(str)\n",
        "plylst_song_map['songs'] = plylst_song_map['songs'].astype(str)\n",
        "\n",
        "# unnest 객체 제거\n",
        "del plylst_song_map_unnest"
      ],
      "execution_count": 11,
      "outputs": []
    },
    {
      "cell_type": "code",
      "metadata": {
        "id": "h3-zVKWJOzwe",
        "colab_type": "code",
        "colab": {}
      },
      "source": [
        "# 플레이리스트 아이디(id)와 매핑된 태그(tags) 추출\n",
        "plylst_tag_map = train[['id', 'tags']]\n",
        "\n",
        "# unnest tags\n",
        "plylst_tag_map_unnest = np.dstack(\n",
        "    (\n",
        "        np.repeat(plylst_tag_map.id.values, list(map(len, plylst_tag_map.tags))), \n",
        "        np.concatenate(plylst_tag_map.tags.values)\n",
        "    )\n",
        ")\n",
        "\n",
        "# unnested 데이터프레임 생성 : plylst_tag_map\n",
        "plylst_tag_map = pd.DataFrame(data = plylst_tag_map_unnest[0], columns = plylst_tag_map.columns)\n",
        "plylst_tag_map['id'] = plylst_tag_map['id'].astype(str)\n",
        "\n",
        "# unnest 객체 제거\n",
        "del plylst_tag_map_unnest"
      ],
      "execution_count": 12,
      "outputs": []
    },
    {
      "cell_type": "code",
      "metadata": {
        "id": "vAyC3RB9O2wn",
        "colab_type": "code",
        "colab": {
          "base_uri": "https://localhost:8080/",
          "height": 505
        },
        "outputId": "6ad9c4fc-26e7-47f9-f38e-68f638ea5c71"
      },
      "source": [
        "print(plylst_song_map)\n",
        "print(plylst_tag_map)"
      ],
      "execution_count": 13,
      "outputs": [
        {
          "output_type": "stream",
          "text": [
            "             id   songs\n",
            "0         61281  525514\n",
            "1         61281  129701\n",
            "2         61281  383374\n",
            "3         61281  562083\n",
            "4         61281  297861\n",
            "...         ...     ...\n",
            "5285866  100389  111365\n",
            "5285867  100389   51373\n",
            "5285868  100389  640239\n",
            "5285869  100389   13759\n",
            "5285870  100389  154078\n",
            "\n",
            "[5285871 rows x 2 columns]\n",
            "            id  tags\n",
            "0        61281     락\n",
            "1        10532    추억\n",
            "2        10532    회상\n",
            "3        76951    까페\n",
            "4        76951   잔잔한\n",
            "...        ...   ...\n",
            "476326  131982   퇴근길\n",
            "476327  100389  노래추천\n",
            "476328  100389  팝송추천\n",
            "476329  100389    팝송\n",
            "476330  100389  팝송모음\n",
            "\n",
            "[476331 rows x 2 columns]\n"
          ],
          "name": "stdout"
        }
      ]
    },
    {
      "cell_type": "code",
      "metadata": {
        "id": "Ixx48OoXa2fV",
        "colab_type": "code",
        "colab": {
          "base_uri": "https://localhost:8080/",
          "height": 488
        },
        "outputId": "37de9395-5006-4367-d095-80ee49d7735e"
      },
      "source": [
        "test = pd.read_json('/content/drive/My Drive/Kakao Arena/test.json', typ = 'frame')#구현의 편의를 위해 test란 이름 하에 val파일로 바꿈\n",
        "print(test)\n",
        "test.info()"
      ],
      "execution_count": 14,
      "outputs": [
        {
          "output_type": "stream",
          "text": [
            "                           tags      id  ... like_cnt                updt_date\n",
            "0                            []   70107  ...        6  2012-09-29 01:57:26.000\n",
            "1      [나만의Best3, 인디아티스트들의추천음악]    7461  ...        0  2019-12-17 14:06:45.000\n",
            "2                        [드라이브]   90348  ...       21  2015-05-23 10:44:48.000\n",
            "3                         [분위기]   58617  ...        0  2019-03-14 09:47:34.000\n",
            "4                            []  102395  ...       38  2018-07-11 16:43:32.000\n",
            "...                         ...     ...  ...      ...                      ...\n",
            "10735                      [추억]  137930  ...       16  2016-04-18 11:02:09.000\n",
            "10736  [띵곡의, 우울, 분위기, 드라이브, 산책]     936  ...        1  2020-04-08 07:15:59.000\n",
            "10737                    [기분전환]  110589  ...        6  2016-06-29 00:57:21.000\n",
            "10738                      [여름]    2605  ...        4  2015-06-06 09:52:01.000\n",
            "10739                        []  126651  ...       14  2015-10-26 17:43:30.000\n",
            "\n",
            "[10740 rows x 6 columns]\n",
            "<class 'pandas.core.frame.DataFrame'>\n",
            "RangeIndex: 10740 entries, 0 to 10739\n",
            "Data columns (total 6 columns):\n",
            " #   Column        Non-Null Count  Dtype \n",
            "---  ------        --------------  ----- \n",
            " 0   tags          10740 non-null  object\n",
            " 1   id            10740 non-null  int64 \n",
            " 2   plylst_title  10740 non-null  object\n",
            " 3   songs         10740 non-null  object\n",
            " 4   like_cnt      10740 non-null  int64 \n",
            " 5   updt_date     10740 non-null  object\n",
            "dtypes: int64(2), object(4)\n",
            "memory usage: 503.6+ KB\n"
          ],
          "name": "stdout"
        }
      ]
    },
    {
      "cell_type": "code",
      "metadata": {
        "id": "YrfzCtHYbBXQ",
        "colab_type": "code",
        "colab": {
          "base_uri": "https://localhost:8080/",
          "height": 121
        },
        "outputId": "db237944-6395-4cd6-87d8-4b30eabf2ba5"
      },
      "source": [
        "print(test.shape[0])\n",
        "\n",
        "print(test.loc[55,'songs'])\n",
        "print(test.loc[55,'tags'])\n",
        "print(test.loc[55,'plylst_title'])\n",
        "print(test.loc[55,'like_cnt'])\n",
        "print(test.loc[55,'updt_date'])"
      ],
      "execution_count": 15,
      "outputs": [
        {
          "output_type": "stream",
          "text": [
            "10740\n",
            "[500538, 390336, 28563, 605152, 698661, 649722, 376097, 141595, 425511, 26633, 701099, 217200, 609220, 252254, 127432, 467385, 119826]\n",
            "[]\n",
            "\n",
            "13\n",
            "2010-02-17 23:20:27.000\n"
          ],
          "name": "stdout"
        }
      ]
    },
    {
      "cell_type": "code",
      "metadata": {
        "id": "NqeVyBO2w56F",
        "colab_type": "code",
        "colab": {
          "base_uri": "https://localhost:8080/",
          "height": 34
        },
        "outputId": "8fa531e2-b7cf-478a-f30d-71349766a5ab"
      },
      "source": [
        "import re\n",
        "title=test.loc[1,'plylst_title']\n",
        "title=re.sub('[^A-Za-z0-9\\u3130-\\u318F\\uAC00-\\uD7A3]', \" \", title)\n",
        "#print(title)   팝 일렉 신나는 분위기를 원할 때\n",
        "titleword=title.split(' ')\n",
        "#print(titleword)  ['', '팝', '일렉', '신나는', '분위기를', '원할', '때']\n",
        "resword=list(filter(('').__ne__, titleword))\n",
        "print(resword)  #['팝', '일렉', '신나는', '분위기를', '원할', '때']"
      ],
      "execution_count": 16,
      "outputs": [
        {
          "output_type": "stream",
          "text": [
            "[]\n"
          ],
          "name": "stdout"
        }
      ]
    },
    {
      "cell_type": "markdown",
      "metadata": {
        "id": "xyevA05TzjLU",
        "colab_type": "text"
      },
      "source": [
        ""
      ]
    },
    {
      "cell_type": "code",
      "metadata": {
        "id": "6ITaA1zAcoc2",
        "colab_type": "code",
        "colab": {
          "base_uri": "https://localhost:8080/",
          "height": 648
        },
        "outputId": "bd77429d-a0f6-4d43-ac8b-d7bdbdd2821a"
      },
      "source": [
        "print(plylst_song_map.loc[plylst_song_map['songs'] == '196298'])\n",
        "print(plylst_song_map.loc[plylst_song_map['songs'] == '196298']['id'].tolist())\n",
        "print(train.loc[train['id']==29392])\n",
        "print(train['tags'])\n",
        "lists=train.to_numpy()\n",
        "print(lists.shape)\n",
        "print(lists[0])\n",
        "\n",
        "a=train.loc[train['id']==29392]\n",
        "print(a.columns)\n",
        "print(a.iloc[0]['songs'])\n",
        "print(a.loc[:,'tags'])"
      ],
      "execution_count": 17,
      "outputs": [
        {
          "output_type": "stream",
          "text": [
            "             id   songs\n",
            "666446    29392  196298\n",
            "999836   122326  196298\n",
            "2295467  105475  196298\n",
            "2560885   81398  196298\n",
            "2950411   83791  196298\n",
            "3191987   66963  196298\n",
            "3317281   34970  196298\n",
            "4133936   79393  196298\n",
            "4805430   38126  196298\n",
            "['29392', '122326', '105475', '81398', '83791', '66963', '34970', '79393', '38126']\n",
            "                tags     id  ... like_cnt                updt_date\n",
            "14522  [힐링, 휴식, 잔잔한]  29392  ...        1  2015-01-27 02:52:39.000\n",
            "\n",
            "[1 rows x 6 columns]\n",
            "0                                                       [락]\n",
            "1                                                  [추억, 회상]\n",
            "2                                                 [까페, 잔잔한]\n",
            "3         [연말, 눈오는날, 캐럴, 분위기, 따듯한, 크리스마스캐럴, 겨울노래, 크리스마스,...\n",
            "4                                                      [댄스]\n",
            "                                ...                        \n",
            "115066                 [록메탈, 밴드사운드, 록, 락메탈, 메탈, 락, extreme]\n",
            "115067                                                 [일렉]\n",
            "115068               [담시, 가족, 눈물, 그리움, 주인공, 나의_이야기, 사랑, 친구]\n",
            "115069                        [잔잔한, 버스, 퇴근버스, Pop, 풍경, 퇴근길]\n",
            "115070                               [노래추천, 팝송추천, 팝송, 팝송모음]\n",
            "Name: tags, Length: 115071, dtype: object\n",
            "(115071, 6)\n",
            "[list(['락']) 61281 '여행같은 음악'\n",
            " list([525514, 129701, 383374, 562083, 297861, 139541, 351214, 650298, 531057, 205238, 706183, 127099, 660493, 461973, 121455, 72552, 223955, 324992, 50104])\n",
            " 71 '2013-12-19 18:36:19.000']\n",
            "Index(['tags', 'id', 'plylst_title', 'songs', 'like_cnt', 'updt_date'], dtype='object')\n",
            "[273697, 11862, 580388, 238725, 698920, 455322, 616335, 371964, 341371, 223083, 28091, 155282, 490373, 386945, 68488, 81311, 290571, 285721, 400853, 491059, 589293, 493450, 328858, 504565, 649290, 61064, 216584, 225897, 637781, 241816, 350611, 671955, 600310, 407370, 236028, 355939, 120291, 116320, 609835, 502706, 649772, 583999, 625554, 567849, 87535, 484456, 598734, 47651, 543145, 54875, 629700, 614097, 408907, 207249, 40713, 548324, 494552, 86258, 555986, 82516, 145828, 59636, 579232, 180669, 418859, 570360, 196298, 500821, 543372, 371308, 247891, 89052, 295050, 262622, 156710, 261123, 322227, 573694, 240583, 554322, 459326, 117595, 53954, 99287, 102541, 238558, 190102]\n",
            "14522    [힐링, 휴식, 잔잔한]\n",
            "Name: tags, dtype: object\n"
          ],
          "name": "stdout"
        }
      ]
    },
    {
      "cell_type": "code",
      "metadata": {
        "id": "uZqOjzLhfvw5",
        "colab_type": "code",
        "colab": {
          "base_uri": "https://localhost:8080/",
          "height": 34
        },
        "outputId": "ac94a0ee-0a20-4c91-99bf-4bfd873919de"
      },
      "source": [
        "#list를 저장하는 코드. 런타임 관련 issue로 이와 같은 구현을 합니다.\n",
        "#아래에 있는 list를 불러오는 코드와 저장경로를 잘 일치시켜주어야 합니다. \n",
        "import pickle\n",
        "from tqdm import tqdm\n",
        "tags_answer=[]\n",
        "songs_answer=[]\n",
        "lists=train.to_numpy() # (115071,6) size의 구조\n",
        "a=0\n",
        "for i in tqdm(range(8999,test.shape[0]),position=0, leave=True):#playlist 하나씩 도는거임 #현재 몇개의 valid파일이 test로 쓰여있다\n",
        "  if (i%100==99 and a!=0):\n",
        "    with open('/content/drive/My Drive/Kakao Arena/test/test'+str(i-99)+'~'+str(i)+'taglist.txt', 'wb') as f:\n",
        "      pickle.dump(tags_answer, f)\n",
        "    with open('/content/drive/My Drive/Kakao Arena/test/test'+str(i-99)+'~'+str(i)+'songlist.txt', 'wb') as f2:\n",
        "      pickle.dump(songs_answer, f2)  \n",
        "    tags_answer=[]\n",
        "    songs_answer=[]#메모리 관련 이슈로 초기화.\n",
        "    #100~199와 같은 식으로 파일 이름이 되어있는데 실제로는 99~198일 것 같음.. 큰 상관은 없으나 고려해야할듯\n",
        "\n",
        "  tags_dict={}\n",
        "  songs_dict={}\n",
        "  a=a+1\n",
        "  plylst_title=test.loc[i,'plylst_title']\n",
        "  title=re.sub('[^A-Za-z0-9\\u3130-\\u318F\\uAC00-\\uD7A3]', \" \", plylst_title)\n",
        "  titleword=title.split(' ')\n",
        "  resword=list(filter(('').__ne__, titleword))\n",
        "  for tags in resword:#tags로 써있긴 하지만 플레이리스트 제목에 기반해서 사용.\n",
        "    for lst in lists:\n",
        "      if (tags in lst[0]):\n",
        "        for traintags in lst[0]:\n",
        "          traintags=str(traintags)+'titleplylst'\n",
        "          if traintags in tags_dict:\n",
        "            tags_dict[traintags]+=1\n",
        "          else:\n",
        "            tags_dict[traintags]=1\n",
        "        for trainsongs in lst[3]:\n",
        "          trainsongs=str(trainsongs)+'titleplylst'\n",
        "          if trainsongs in songs_dict:\n",
        "            songs_dict[trainsongs]+=1\n",
        "          else:\n",
        "            songs_dict[trainsongs]=1\n",
        "\n",
        "  for songs in test.loc[i,'songs']:#플레이 리스트마다 50번 도는거임. 50번 아닐수도 있더군요..\n",
        "    now_metadata=song_meta.loc[song_meta['id']==songs]\n",
        "    now_albumid=now_metadata.iloc[0]['album_id']\n",
        "    albumsong_list=list(song_meta.loc[song_meta['album_id']==now_albumid].iloc[:]['id'])\n",
        "    for trainsongs in albumsong_list:\n",
        "      trainsongs=str(trainsongs)+'albumsong'\n",
        "      if trainsongs in songs_dict:\n",
        "        songs_dict[trainsongs]+=1\n",
        "      else:\n",
        "        songs_dict[trainsongs]=1\n",
        "\n",
        "    now_artistids=now_metadata.iloc[0]['artist_id_basket']\n",
        "\n",
        "    for artist in now_artistids:\n",
        "      now_artistsongs=song_meta.loc[song_meta['artist_id_basket'].apply(lambda x: artist in x)]\n",
        "      artistsong_list=list(now_artistsongs.iloc[:]['id'])\n",
        "      for trainsongs in artistsong_list:\n",
        "        trainsongs=str(trainsongs)+'artistsong'\n",
        "        if trainsongs in songs_dict:\n",
        "          songs_dict[trainsongs]+=1\n",
        "        else:\n",
        "          songs_dict[trainsongs]=1\n",
        "    plylsts_songs=plylst_song_map.loc[plylst_song_map['songs'] == str(songs)]#이 곡을 가지고 있는 플레이 리스트의 song_map 데이터프레임.\n",
        "    if not plylsts_songs.empty:#비어있으면 별도의 작업을 하지 않음.. 머리가 아픕니다 근데 exception안해도 그냥 돌아가는 듯 보입니다.\n",
        "      id_lists=plylsts_songs['id'].tolist()\n",
        "      for ids in id_lists:# 이 아이디들은 playlist의 아이디들이다. str으로 주어진다.\n",
        "        id_train=train.loc[train['id']==int(ids)]\n",
        "        for trainsongs in id_train.iloc[0]['songs']:\n",
        "          trainsongs=str(trainsongs)+'songplylst'\n",
        "          if trainsongs in songs_dict:\n",
        "            songs_dict[trainsongs]+=1\n",
        "          else:\n",
        "            songs_dict[trainsongs]=1\n",
        "        for traintags in id_train.iloc[0]['tags']:\n",
        "          traintags=str(traintags)+'songplylst'\n",
        "          if traintags in tags_dict:\n",
        "            tags_dict[traintags]+=1\n",
        "          else:\n",
        "            tags_dict[traintags]=1\n",
        "    \n",
        "    \"\"\"\n",
        "    a=song_meta.loc[song_meta['id']==325514]\n",
        "print(a) #곡의 아이디 기반한 정보\n",
        "a.info()\n",
        "print(a.iloc[0]['album_id']) #그 후 이런식으로 꺼내면 됨. id가 325514인 곡의 앨범 아이디.\n",
        "print(song_meta.loc[song_meta['album_id']==40432])#위 아이디로 곡들 불러옴\n",
        "print(list(song_meta.loc[song_meta['album_id']==40432].iloc[:]['id']))#이렇게 325514 곡과 같은 앨범에 수록된 곡들을 불러올 수 있다.\n",
        "\n",
        "artists=a.iloc[0]['artist_id_basket']\n",
        "for artist in artists:\n",
        "  b=song_meta.loc[song_meta['artist_id_basket'].apply(lambda x: artist in x)]\n",
        "  print(b) #artist가 해당되는 곡들 불러옴\n",
        "  print(list(b.iloc[:]['id']))#이렇게 325514 곡과 같은 아티스트가 만든 곡들을 불러올 수 있다.\n",
        "\n",
        "\n",
        "print(song_meta.loc[song_meta['album_name'].str.match(\"그남자 그여자\").fillna(True)])\n",
        "    \"\"\"\n",
        "    \n",
        "  # 위 포문은 리스트에 있는 곡들을 포함하는 다른 플레이리스트를 train에서 찾고,\n",
        "  # 그 플레이 리스트의 태그와 곡들을 넣는겁니다.\n",
        "  #songplylst가 붙은 키가 이 방식으로 가감이 된 것을 의미합니다.\n",
        "\n",
        "  #print(tags_dict)\n",
        "  #print(songs_dict)\n",
        "  #print(\"다음 값은 tags도 고려됩니다 a=1\")\n",
        "\n",
        "  a=1#원래 파라미터 관해서 커버하려고 했는데 방식이 바뀌어서 그냥 1임\n",
        "  for tags in test.loc[i,'tags']:#플레이리스트 마다 플레이리스트의 태그를 가져옴.\n",
        "    #주의할점은 여기서는 np array를 통해 직접 들고옵니다 string list가지고 핸들링하는거 어려움..\n",
        "    #프린트를 해보니 태그쪽이 수가 곡보다 적음에도 일반적으로 영향력이 3~4배정도 커보임 수록곡 1등인 밤편지가 2000개 리스트에 있는데\n",
        "    #사랑 이런 태그는 막 10000개 가까이 있지 않을까 예상중. 일단은 parameter수정없이 함.\n",
        "    for lst in lists:\n",
        "      if (tags in lst[0]):\n",
        "        for traintags in lst[0]:\n",
        "          traintags=str(traintags)+'tagplylst'\n",
        "          if traintags in tags_dict:\n",
        "            tags_dict[traintags]+=a\n",
        "          else:\n",
        "            tags_dict[traintags]=a\n",
        "        for trainsongs in lst[3]:\n",
        "          trainsongs=str(trainsongs)+'tagplylst'\n",
        "          if trainsongs in songs_dict:\n",
        "            songs_dict[trainsongs]+=a\n",
        "          else:\n",
        "            songs_dict[trainsongs]=a\n",
        "    \n",
        "  tags_answer.append(tags_dict)\n",
        "  songs_answer.append(songs_dict)\n",
        "  #print(tags_dict)\n",
        "  #print(songs_dict)\n",
        "with open('/content/drive/My Drive/Kakao Arena/test/test'+str(i-99)+'~'+str(i)+'taglist.txt', 'wb') as f:\n",
        "  pickle.dump(tags_answer, f)\n",
        "with open('/content/drive/My Drive/Kakao Arena/test/test'+str(i-99)+'~'+str(i)+'songlist.txt', 'wb') as f2:\n",
        "  pickle.dump(songs_answer, f2)  \n",
        "  \"\"\"\n",
        "    print(train.loc[train['id']==10532])\n",
        "    a=train.loc[train['id']==10532]\n",
        "    print(a.loc[1,'songs'])\n",
        "    print(a.loc[1,'tags'])\n",
        "  \"\"\""
      ],
      "execution_count": 19,
      "outputs": [
        {
          "output_type": "stream",
          "text": [
            "100%|██████████| 1741/1741 [6:26:09<00:00, 13.31s/it]\n"
          ],
          "name": "stderr"
        }
      ]
    },
    {
      "cell_type": "code",
      "metadata": {
        "id": "1S90Mjcx9hMu",
        "colab_type": "code",
        "colab": {
          "base_uri": "https://localhost:8080/",
          "height": 121
        },
        "outputId": "5eb02145-26b8-4219-9d41-6cbee5455e1b"
      },
      "source": [
        ""
      ],
      "execution_count": null,
      "outputs": [
        {
          "output_type": "stream",
          "text": [
            "[]\n",
            "[]\n",
            "[529437, 516103, 360067, 705713, 226062, 370891, 344934, 495061, 297884, 180274, 614059, 175436, 110325, 314668]\n",
            "[589668, 21711, 570151, 320043, 13930, 599327, 216696, 423594, 170279, 93151, 455185, 634366, 277910, 671805, 622636, 232676, 442352]\n",
            "[672718, 121924, 102694, 683657, 201558, 385110, 610734, 83940]\n",
            "[173033, 138237, 63140, 15733, 461780, 308519, 645777, 225090, 73748, 204150]\n"
          ],
          "name": "stdout"
        }
      ]
    },
    {
      "cell_type": "code",
      "metadata": {
        "id": "3vzmHw0UFKYH",
        "colab_type": "code",
        "colab": {
          "base_uri": "https://localhost:8080/",
          "height": 296
        },
        "outputId": "b963e44f-97d8-44f9-c33d-c0c4f30c3d1b"
      },
      "source": [
        "#저장된 리스트를 불러와서 처리 후 json파일로 처리하는 코드입니다.\n",
        "#Colab에서 나누어진 block순서로 차례대로 사용하는 것이 좋습니다만, 타 환경에서 한번에 구동해도 구동은 됩니다.\n",
        "from tqdm import tqdm\n",
        "import pickle\n",
        "import json\n",
        "\n",
        "tagplylst_parameter=10\n",
        "songplylst_parameters=[30]\n",
        "titleplylst_parameters=[50]\n",
        "albumsong_parameters=[3]\n",
        "artistsong_parameters=[3]\n",
        "#list로 되어있는 parameter는 grid search구현이 가능하도록 되어있습니다. 따라 파일이름이 10305033results.json.. 과 같은 형태로 나옵니다.\n",
        "before_songs=[362966, 576559, 514079, 427902, 272180, 110239, 135447, 472490, 106573, 369127, 163377, 18418, 228263, 347448, 42317, 252577, 317711, 360373, 699518, 64641, 200687, 54755, 496394, 108207, 124823, 524956, 658227, 305183, 11093, 335756, 74638, 704707, 518420, 528397, 191236, 349270, 161288, 529748, 618742, 448682, 108003, 569401, 443914, 646941, 254865, 204439, 200059, 342798, 205179, 675874, 275121, 277034, 498452, 659226, 521330, 580326, 119974, 3805, 699874, 704752, 114119, 532044, 584067, 133190, 563098, 93143, 318530, 493762, 603633, 420396, 347585, 191915, 222272, 130199, 355939, 259795, 581799, 553166, 493804, 423821, 410890, 307179, 195174, 475599, 19364, 375431, 405604, 445170, 436741, 378434, 588471, 459256, 138486, 32570, 52904, 417071, 654112, 643498, 455744, 146989]\n",
        "before_tags=[\"kpop\", \"BTS\", \"스트레스\", \"방탄\", \"신나는\", \"기분전환\", \"드라이브\", \"여행\", \"운동\", \"감성\"]\n",
        "tags='추억' # 가장 처음부터 터지는 case 방지용 \n",
        "#id=test.loc[i,'id']\n",
        "for songplylst_parameter in songplylst_parameters:\n",
        "  for titleplylst_parameter in titleplylst_parameters:\n",
        "    for albumsong_parameter in albumsong_parameters:\n",
        "      for artistsong_parameter in artistsong_parameters:\n",
        "        print('now is for ',songplylst_parameter, titleplylst_parameter, albumsong_parameter, artistsong_parameter)\n",
        "        answer_dicts=[]\n",
        "        for i in tqdm(range(test.shape[0]),leave=True, position=0):\n",
        "          if (i%100==99):\n",
        "            parttag=[]\n",
        "            partsong=[]\n",
        "            with open('/content/drive/My Drive/Kakao Arena/test/test'+str(i-99)+'~'+str(i)+'taglist.txt', 'rb') as f:#tag\n",
        "              subparttag=pickle.load(f)\n",
        "            with open('/content/drive/My Drive/Kakao Arena/test/test'+str(i-99)+'~'+str(i)+'songlist.txt', 'rb') as f2:#song\n",
        "              subpartsong=pickle.load(f2)\n",
        "            for dicts in subparttag: #dictionary 보통 100개 불러옴\n",
        "              new_dicts={}\n",
        "              for key,val in dicts.items():\n",
        "                if 'tagplylst' in key:\n",
        "                  new_key=key.replace('tagplylst','')\n",
        "                  if new_key not in new_dicts:\n",
        "                    new_dicts[new_key]=tagplylst_parameter*val\n",
        "                  else:\n",
        "                    new_dicts[new_key]+=(tagplylst_parameter*val)\n",
        "                elif 'titleplylst' in key:\n",
        "                  new_key=key.replace('titleplylst','')\n",
        "                  if new_key not in new_dicts:\n",
        "                    new_dicts[new_key]=titleplylst_parameter*val\n",
        "                  else:\n",
        "                    new_dicts[new_key]+=(titleplylst_parameter*val)\n",
        "                elif 'songplylst' in key:\n",
        "                  new_key=key.replace('songplylst','')\n",
        "                  if new_key not in new_dicts:\n",
        "                    new_dicts[new_key]=songplylst_parameter*val\n",
        "                  else:\n",
        "                    new_dicts[new_key]+=(songplylst_parameter*val)\n",
        "              parttag.append(new_dicts)\n",
        "            for dicts in subpartsong: #dictionary 보통 100개 불러옴\n",
        "              song_new_dicts={}\n",
        "              for key,val in dicts.items():\n",
        "                if 'tagplylst' in key:\n",
        "                  new_key=key.replace('tagplylst','')\n",
        "                  if new_key not in song_new_dicts:\n",
        "                    song_new_dicts[new_key]=tagplylst_parameter*val\n",
        "                  else:\n",
        "                    song_new_dicts[new_key]+=(tagplylst_parameter*val)\n",
        "                elif 'titleplylst' in key:\n",
        "                  new_key=key.replace('titleplylst','')\n",
        "                  if new_key not in song_new_dicts:\n",
        "                    song_new_dicts[new_key]=titleplylst_parameter*val\n",
        "                  else:\n",
        "                    song_new_dicts[new_key]+=(titleplylst_parameter*val)\n",
        "                elif 'songplylst' in key:\n",
        "                  new_key=key.replace('songplylst','')\n",
        "                  if new_key not in song_new_dicts:\n",
        "                    song_new_dicts[new_key]=songplylst_parameter*val\n",
        "                  else:\n",
        "                    song_new_dicts[new_key]+=(songplylst_parameter*val)\n",
        "                elif 'artistsong' in key:\n",
        "                  new_key=key.replace('artistsong','')\n",
        "                  if new_key not in song_new_dicts:\n",
        "                    song_new_dicts[new_key]=artistsong_parameter*val\n",
        "                  else:\n",
        "                    song_new_dicts[new_key]+=(artistsong_parameter*val)\n",
        "                elif 'albumsong' in key:\n",
        "                  new_key=key.replace('albumsong','')\n",
        "                  if new_key not in song_new_dicts:\n",
        "                    song_new_dicts[new_key]=albumsong_parameter*val\n",
        "                  else:\n",
        "                    song_new_dicts[new_key]+=(albumsong_parameter*val)\n",
        "              partsong.append(song_new_dicts)\n",
        "              #이제 이게 subparttag는 키가 196264tagplaylst 이런식으로 되어있고, partsong은 196264가 들어가야한다.\n",
        "            for j in range(len(parttag)):#보통 100, song이나 tag나 상관 없다.\n",
        "              \n",
        "              ith_answer={}\n",
        "              pred_songs=[]\n",
        "              pred_tags=[]\n",
        "              songnum=0\n",
        "              tagnum=0\n",
        "              for songs in test.loc[i-len(parttag)+j,\"songs\"]:\n",
        "                pred_songs.append(songs)\n",
        "                songnum=songnum+1\n",
        "              for tags in test.loc[i-len(parttag)+j,\"tags\"]:\n",
        "                pred_tags.append(tags)\n",
        "                tagnum=tagnum+1\n",
        "              ressongs=dict(sorted(partsong[j].items(),key=(lambda x:x[1]),reverse=True))\n",
        "              restags=dict(sorted(parttag[j].items(),key=(lambda x:x[1]),reverse=True))\n",
        "              while True:\n",
        "                if(songnum==100):\n",
        "                  break\n",
        "                #업데이트 날짜는 여기서 고려 가능\n",
        "                for key in ressongs:\n",
        "                  key=int(key)\n",
        "                  if (key not in pred_songs):\n",
        "                    pred_songs.append(key)\n",
        "                    songnum+=1\n",
        "                    if songnum==100:\n",
        "                      break\n",
        "                \n",
        "                if (songnum!=100):\n",
        "                  pred_songs=before_songs\n",
        "                  songnum=100\n",
        "                \n",
        "                break\n",
        "              while True:\n",
        "                if(tagnum==10):\n",
        "                  break\n",
        "                for key in restags:\n",
        "                  if key not in pred_tags:\n",
        "                    pred_tags.append(key)\n",
        "                    tagnum=tagnum+1\n",
        "                    if (tagnum==10):\n",
        "                      break\n",
        "                \n",
        "                if(tagnum!=10):\n",
        "                  pred_tags=before_tags\n",
        "                  tagnum=10\n",
        "                \n",
        "                break\n",
        "              id=test.loc[i-len(parttag)+j,'id']\n",
        "              ith_answer['id']=int(id)\n",
        "              ith_answer['songs']=pred_songs\n",
        "              ith_answer['tags']=pred_tags\n",
        "              answer_dicts.append(ith_answer)\n",
        "        with open('/content/drive/My Drive/Kakao Arena/test/test'+str(i-99)+'~'+str(i)+'taglist.txt', 'rb') as f:\n",
        "          subparttag=pickle.load(f)\n",
        "        with open('/content/drive/My Drive/Kakao Arena/test/test'+str(i-99)+'~'+str(i)+'songlist.txt', 'rb') as f2:\n",
        "          subpartsong=pickle.load(f2)\n",
        "        parttag=[]\n",
        "        partsong=[]\n",
        "        i=i+1\n",
        "        for dicts in subparttag: #dictionary 보통 100개 불러옴\n",
        "          new_dicts={}\n",
        "          for key,val in dicts.items():\n",
        "            if 'tagplylst' in key:\n",
        "              new_key=key.replace('tagplylst','')\n",
        "              if new_key not in new_dicts:\n",
        "                new_dicts[new_key]=tagplylst_parameter*val\n",
        "              else:\n",
        "                new_dicts[new_key]+=(tagplylst_parameter*val)\n",
        "            elif 'titleplylst' in key:\n",
        "              new_key=key.replace('titleplylst','')\n",
        "              if new_key not in new_dicts:\n",
        "                new_dicts[new_key]=titleplylst_parameter*val\n",
        "              else:\n",
        "                new_dicts[new_key]+=(titleplylst_parameter*val)\n",
        "            elif 'songplylst' in key:\n",
        "              new_key=key.replace('songplylst','')\n",
        "              if new_key not in new_dicts:\n",
        "                new_dicts[new_key]=songplylst_parameter*val\n",
        "              else:\n",
        "                new_dicts[new_key]+=(songplylst_parameter*val)\n",
        "          parttag.append(new_dicts)\n",
        "        for dicts in subpartsong: #dictionary 보통 100개 불러옴\n",
        "          song_new_dicts={}\n",
        "          for key,val in dicts.items():\n",
        "            if 'tagplylst' in key:\n",
        "              new_key=key.replace('tagplylst','')\n",
        "              if new_key not in song_new_dicts:\n",
        "                song_new_dicts[new_key]=tagplylst_parameter*val\n",
        "              else:\n",
        "                song_new_dicts[new_key]+=(tagplylst_parameter*val)\n",
        "            elif 'titleplylst' in key:\n",
        "              new_key=key.replace('titleplylst','')\n",
        "              if new_key not in song_new_dicts:\n",
        "                song_new_dicts[new_key]=titleplylst_parameter*val\n",
        "              else:\n",
        "                song_new_dicts[new_key]+=(titleplylst_parameter*val)\n",
        "            elif 'songplylst' in key:\n",
        "              new_key=key.replace('songplylst','')\n",
        "              if new_key not in song_new_dicts:\n",
        "                song_new_dicts[new_key]=songplylst_parameter*val\n",
        "              else:\n",
        "                song_new_dicts[new_key]+=(songplylst_parameter*val)\n",
        "            elif 'artistsong' in key:\n",
        "              new_key=key.replace('artistsong','')\n",
        "              if new_key not in song_new_dicts:\n",
        "                song_new_dicts[new_key]=artistsong_parameter*val\n",
        "              else:\n",
        "                song_new_dicts[new_key]+=(artistsong_parameter*val)\n",
        "            elif 'albumsong' in key:\n",
        "              new_key=key.replace('albumsong','')\n",
        "              if new_key not in song_new_dicts:\n",
        "                song_new_dicts[new_key]=albumsong_parameter*val\n",
        "              else:\n",
        "                song_new_dicts[new_key]+=(albumsong_parameter*val)\n",
        "          partsong.append(song_new_dicts)\n",
        "        for j in range(len(parttag)):#보통 100, song이나 tag나 상관 없다.\n",
        "          ith_answer={}\n",
        "          pred_songs=[]\n",
        "          pred_tags=[]\n",
        "          songnum=0\n",
        "          tagnum=0\n",
        "          for songs in test.loc[i-len(parttag)+j,\"songs\"]:\n",
        "            songs=int(songs)\n",
        "            pred_songs.append(songs)\n",
        "            songnum=songnum+1\n",
        "          for tags in test.loc[i-len(parttag)+j,\"tags\"]:\n",
        "            pred_tags.append(tags)\n",
        "            tagnum=tagnum+1\n",
        "          ressongs=dict(sorted(partsong[j].items(),key=(lambda x:x[1]),reverse=True))\n",
        "          restags=dict(sorted(parttag[j].items(),key=(lambda x:x[1]),reverse=True))\n",
        "          while True:\n",
        "            if(songnum==100):\n",
        "                  break\n",
        "            #업데이트 날짜는 여기서 고려 가능\n",
        "            for key in ressongs:\n",
        "              key=int(key)\n",
        "              if key not in pred_songs:\n",
        "                pred_songs.append(key)\n",
        "                songnum=songnum+1\n",
        "                if (songnum==100):\n",
        "                  break\n",
        "                  \n",
        "            if(songnum!=100):\n",
        "              pred_songs=before_songs\n",
        "              songnum=100\n",
        "            \n",
        "            break\n",
        "          while True:\n",
        "            if(tagnum==10):\n",
        "                  break\n",
        "            for key in restags:\n",
        "              if key not in pred_tags:\n",
        "                pred_tags.append(key)\n",
        "                tagnum=tagnum+1\n",
        "                if (tagnum==10):\n",
        "                  break\n",
        "            if(tagnum!=10):\n",
        "              pred_tags=before_tags\n",
        "              tagnum=10\n",
        "            \n",
        "            break\n",
        "          id=test.loc[i-len(parttag)+j,'id']\n",
        "          ith_answer['id']=int(id)\n",
        "          ith_answer['songs']=pred_songs\n",
        "          ith_answer['tags']=pred_tags\n",
        "          answer_dicts.append(ith_answer)\n",
        "        with open('/content/drive/My Drive/Kakao Arena/test/'+str(tagplylst_parameter)+str(songplylst_parameter)+str(titleplylst_parameter)\n",
        "+str(albumsong_parameter)+str(artistsong_parameter)+'results.json', 'w',encoding='utf-8') as fp:\n",
        "            json.dump(answer_dicts, fp,ensure_ascii=False)"
      ],
      "execution_count": 20,
      "outputs": [
        {
          "output_type": "stream",
          "text": [
            "\r  0%|          | 0/10740 [00:00<?, ?it/s]"
          ],
          "name": "stderr"
        },
        {
          "output_type": "stream",
          "text": [
            "now is for  30 3 3 3\n"
          ],
          "name": "stdout"
        },
        {
          "output_type": "stream",
          "text": [
            "100%|██████████| 10740/10740 [32:04<00:00,  5.58it/s]\n",
            "  0%|          | 0/10740 [00:00<?, ?it/s]"
          ],
          "name": "stderr"
        },
        {
          "output_type": "stream",
          "text": [
            "now is for  30 3 3 150\n"
          ],
          "name": "stdout"
        },
        {
          "output_type": "stream",
          "text": [
            "100%|██████████| 10740/10740 [29:37<00:00,  6.04it/s]\n",
            "  0%|          | 0/10740 [00:00<?, ?it/s]"
          ],
          "name": "stderr"
        },
        {
          "output_type": "stream",
          "text": [
            "now is for  30 3 150 3\n"
          ],
          "name": "stdout"
        },
        {
          "output_type": "stream",
          "text": [
            "100%|██████████| 10740/10740 [29:42<00:00,  6.03it/s]\n",
            "  0%|          | 0/10740 [00:00<?, ?it/s]"
          ],
          "name": "stderr"
        },
        {
          "output_type": "stream",
          "text": [
            "now is for  30 3 150 150\n"
          ],
          "name": "stdout"
        },
        {
          "output_type": "stream",
          "text": [
            "100%|██████████| 10740/10740 [29:57<00:00,  5.97it/s]\n",
            "  0%|          | 0/10740 [00:00<?, ?it/s]"
          ],
          "name": "stderr"
        },
        {
          "output_type": "stream",
          "text": [
            "now is for  30 50 3 3\n"
          ],
          "name": "stdout"
        },
        {
          "output_type": "stream",
          "text": [
            "100%|██████████| 10740/10740 [30:38<00:00,  5.84it/s]\n",
            "  0%|          | 0/10740 [00:00<?, ?it/s]"
          ],
          "name": "stderr"
        },
        {
          "output_type": "stream",
          "text": [
            "now is for  30 50 3 150\n"
          ],
          "name": "stdout"
        },
        {
          "output_type": "stream",
          "text": [
            "100%|██████████| 10740/10740 [30:00<00:00,  5.97it/s]\n",
            "  0%|          | 0/10740 [00:00<?, ?it/s]"
          ],
          "name": "stderr"
        },
        {
          "output_type": "stream",
          "text": [
            "now is for  30 50 150 3\n"
          ],
          "name": "stdout"
        },
        {
          "output_type": "stream",
          "text": [
            "100%|██████████| 10740/10740 [29:31<00:00,  6.06it/s]\n",
            "  0%|          | 0/10740 [00:00<?, ?it/s]"
          ],
          "name": "stderr"
        },
        {
          "output_type": "stream",
          "text": [
            "now is for  30 50 150 150\n"
          ],
          "name": "stdout"
        },
        {
          "output_type": "stream",
          "text": [
            "100%|██████████| 10740/10740 [29:33<00:00,  6.05it/s]\n"
          ],
          "name": "stderr"
        }
      ]
    },
    {
      "cell_type": "code",
      "metadata": {
        "id": "COSoAuZGUqtw",
        "colab_type": "code",
        "colab": {}
      },
      "source": [
        "with open('/content/drive/My Drive/Kakao Arena/'+str(tagplylst_parameter)+str(songplylst_parameter)+str(titleplylst_parameter)\n",
        "+str(albumsong_parameter)+str(artistsong_parameter)+'results.json', 'w') as fp:\n",
        "    json.dump(answer_dicts, fp)"
      ],
      "execution_count": null,
      "outputs": []
    },
    {
      "cell_type": "code",
      "metadata": {
        "id": "Bx0pB-ytKZeW",
        "colab_type": "code",
        "colab": {}
      },
      "source": [
        "#tot_songs[i]가 dict가 담겨있고(곡id : 숫자 형태) 숫자가 제일 높은 곡 id n개를 일단 잡으면 된다.\n",
        "for i in range(test.shape[0]):\n",
        "  answer_dict={}\n",
        "  pred_songs=[]\n",
        "  pred_tags=[]\n",
        "  id=test.loc[i,'id']\n",
        "  pred_songs.extend(test.loc[i,'songs'])\n",
        "  pred_tags.extend(test.loc[i,'tags'])\n",
        "  songs in test.loc[i,'songs']:#플레이 리스트마다 50번 도는거임. 50번 아닐수도 있더군요..\n",
        "  \n",
        "\n"
      ],
      "execution_count": null,
      "outputs": []
    }
  ]
}